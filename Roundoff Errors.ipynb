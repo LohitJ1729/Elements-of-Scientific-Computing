{
 "cells": [
  {
   "cell_type": "code",
   "execution_count": 1,
   "id": "5522d389",
   "metadata": {},
   "outputs": [],
   "source": [
    "# import libraries\n",
    "import numpy as np\n",
    "from matplotlib import pyplot as plt\n",
    "import math"
   ]
  },
  {
   "cell_type": "markdown",
   "id": "077f15c2",
   "metadata": {},
   "source": [
    "## Problem\n",
    "What is our underflow roundoff error?"
   ]
  },
  {
   "cell_type": "code",
   "execution_count": 2,
   "id": "37b71a28",
   "metadata": {},
   "outputs": [
    {
     "data": {
      "text/plain": [
       "4.440892098500626e-16"
      ]
     },
     "execution_count": 2,
     "metadata": {},
     "output_type": "execute_result"
    }
   ],
   "source": [
    "# roundoff error\n",
    "(math.sqrt(2.0))**2 - 2"
   ]
  },
  {
   "cell_type": "markdown",
   "id": "f910e1d7",
   "metadata": {},
   "source": [
    "What is our overflow roundoff error?"
   ]
  },
  {
   "cell_type": "code",
   "execution_count": 3,
   "id": "a284db7c",
   "metadata": {},
   "outputs": [
    {
     "name": "stdout",
     "output_type": "stream",
     "text": [
      "0 4.49423283715579e+307\n",
      "1 8.98846567431158e+307\n",
      "2 inf\n"
     ]
    }
   ],
   "source": [
    "large = 2.0**1021\n",
    "for i in range(3):\n",
    "    large *= 2\n",
    "    print(i, large)"
   ]
  },
  {
   "cell_type": "code",
   "execution_count": 4,
   "id": "182987c5",
   "metadata": {},
   "outputs": [
    {
     "name": "stdout",
     "output_type": "stream",
     "text": [
      "0 1.0000000000000004 4.440892098500626e-16\n",
      "1 1.0000000000000002 2.220446049250313e-16\n",
      "2 1.0 1.1102230246251565e-16\n"
     ]
    }
   ],
   "source": [
    "# machine precision\n",
    "small = 1.0 / (2**50)\n",
    "for i in range(3):\n",
    "    small /= 2\n",
    "    print(i, 1+small, small)"
   ]
  },
  {
   "cell_type": "code",
   "execution_count": 17,
   "id": "e57ce3ed",
   "metadata": {},
   "outputs": [
    {
     "data": {
      "image/png": "[encoded data removed]",
      "text/plain": [
       "<Figure size 640x480 with 1 Axes>"
      ]
     },
     "metadata": {},
     "output_type": "display_data"
    }
   ],
   "source": [
    "# create a simple plot of a function\n",
    "x = np.linspace(0, 1, 20)\n",
    "y = -0.1*(x**4) - 0.15*(x**3) - 0.5*(x**2) - 0.25*x + 1.2\n",
    "yprime = -0.4*(x**3) - 0.45*(x**2) - x - 0.25\n",
    "y0 = 1.2 + 0*x\n",
    "y1 = 1.2 - 0.25*x\n",
    "y2 = 1.2 - 0.25*x - 0.5*(x**2)\n",
    "# y3 = 1.2 - 0.25*x - 0.5*x**2 \n",
    "# y4 = 1.2 - 0.25*x - 0.5*x**2\n",
    "\n",
    "plt.plot(x,y,color='blue',label='y')\n",
    "plt.plot(x,yprime,color='orange',label='$y\\'$')\n",
    "plt.plot(x,y0,color='black',label='y0')\n",
    "plt.plot(x,y1,color='red',label='y1')\n",
    "plt.plot(x,y2,color='green',label='y2')\n",
    "plt.legend()\n",
    "plt.show()"
   ]
  },
  {
   "cell_type": "code",
   "execution_count": 33,
   "id": "e9a9c363",
   "metadata": {},
   "outputs": [
    {
     "name": "stdout",
     "output_type": "stream",
     "text": [
      "1.2\n",
      "0.9249999999999999\n",
      "0.19999999999999996\n",
      "Forward Difference:, -0.9212850999999911, True derivative:, -0.9125, Relative error: 0.9627506849305325%\n",
      "Backward Difference:, -0.9037849000000042, True derivative:, -0.9125, Relative error: 0.9550794520543295%\n",
      "Central Difference:, -0.9125349999999977, True derivative:, -0.9125, Relative error: 0.0038356164381014553%\n"
     ]
    }
   ],
   "source": [
    "def f(x):\n",
    "    val = -0.1*(x**4) - 0.15*(x**3) - 0.5*(x**2) - 0.25*x + 1.2\n",
    "    return val\n",
    "\n",
    "def fprime(x):\n",
    "    val = -0.4*(x**3) - 0.45*(x**2) - x - 0.25\n",
    "    return val\n",
    "\n",
    "h = 0.01\n",
    "\n",
    "def forward_diff(f, h, x):\n",
    "    val = (f(x + h) - f(x))/h\n",
    "    return val\n",
    "\n",
    "def backwards_diff(f, h, x):\n",
    "    val = (f(x) - f(x - h))/h\n",
    "    return val\n",
    "\n",
    "def central_diff(f, h, x):\n",
    "    val = (f(x + h) - f(x - h))/(2*h)\n",
    "    return val\n",
    "\n",
    "print(f(0.0))\n",
    "print(f(0.5))\n",
    "print(f(1.0))\n",
    "print(f'Forward Difference:, {forward_diff(f, h, 0.5)}, True derivative:, {fprime(0.5)}, Relative error: {abs((forward_diff(f, h, 0.5) - fprime(0.5))/fprime(0.5))*100}%')\n",
    "print(f'Backward Difference:, {backwards_diff(f, h, 0.5)}, True derivative:, {fprime(0.5)}, Relative error: {abs((backwards_diff(f, h, 0.5) - fprime(0.5))/fprime(0.5))*100}%')\n",
    "print(f'Central Difference:, {central_diff(f, h, 0.5)}, True derivative:, {fprime(0.5)}, Relative error: {abs((central_diff(f, h, 0.5) - fprime(0.5))/fprime(0.5))*100}%')"
   ]
  },
  {
   "cell_type": "code",
   "execution_count": null,
   "id": "34eae479",
   "metadata": {},
   "outputs": [],
   "source": []
  }
 ],
 "metadata": {
  "kernelspec": {
   "display_name": "Python 3 (ipykernel)",
   "language": "python",
   "name": "python3"
  },
  "language_info": {
   "codemirror_mode": {
    "name": "ipython",
    "version": 3
   },
   "file_extension": ".py",
   "mimetype": "text/x-python",
   "name": "python",
   "nbconvert_exporter": "python",
   "pygments_lexer": "ipython3",
   "version": "3.10.9"
  }
 },
 "nbformat": 4,
 "nbformat_minor": 5
}
