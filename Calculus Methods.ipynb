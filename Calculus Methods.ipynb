{
 "cells": [
  {
   "cell_type": "code",
   "execution_count": 24,
   "id": "5522d389",
   "metadata": {},
   "outputs": [],
   "source": [
    "# import libraries\n",
    "import numpy as np\n",
    "from matplotlib import pyplot as plt"
   ]
  },
  {
   "cell_type": "markdown",
   "id": "077f15c2",
   "metadata": {},
   "source": [
    "## Problem\n",
    "Notice that the following result is not giving us $f(x) = x$. This is an issue."
   ]
  },
  {
   "cell_type": "code",
   "execution_count": null,
   "id": "59bdb3ba",
   "metadata": {},
   "outputs": [
    {
     "name": "stdout",
     "output_type": "stream",
     "text": [
      "5.0 1.0\n",
      "0.5 0.0\n",
      "2 1.0\n"
     ]
    }
   ],
   "source": [
    "from math import sqrt\n",
    "\n",
    "def f(x, nmax = 1000):\n",
    "    for i in range(nmax):\n",
    "        x = sqrt(x)\n",
    "    for i in range(nmax):\n",
    "        x = x**2\n",
    "    return x\n",
    "\n",
    "for xin in (5.0, 0.5):\n",
    "    xout = f(xin)\n",
    "    print(xin, xout)\n",
    "    \n",
    "print(2, f(2))"
   ]
  },
  {
   "cell_type": "code",
   "execution_count": null,
   "id": "11ecc0aa",
   "metadata": {},
   "outputs": [
    {
     "data": {
      "text/plain": [
       "[<matplotlib.lines.Line2D at 0x126dc3d30>]"
      ]
     },
     "metadata": {},
     "output_type": "display_data"
    },
    {
     "data": {
      "image/png": "[encoded data removed]",
      "text/plain": [
       "<Figure size 640x480 with 1 Axes>"
      ]
     },
     "metadata": {},
     "output_type": "display_data"
    }
   ],
   "source": [
    "n = 6\n",
    "x = np.linspace(0.5, 1.5, 10**n)\n",
    "f = x**6 + (0.1 * np.log(abs(1 + (3 * (1 - x)) )))\n",
    "\n",
    "plt.plot(x,f) #, label=\"n=100\")"
   ]
  },
  {
   "cell_type": "markdown",
   "id": "8f270459",
   "metadata": {},
   "source": [
    "Solving the standard quadratic equation:\n",
    "\n",
    "$$ax^2 + bx + c = 0$$\n",
    "\n",
    "where $a = 1, c = 1, b = 10^8$. Then, we see that the roots can be extremely large and involve subtracting two numbers that are close together. This can cause \"catastrophic cancellation\". We can deal with this by seeing that the product of the roots satisfy:\n",
    "\n",
    "$$x_1 x_2 = \\frac{c}{a} = 1$$\n",
    "\n",
    "in our case, meaning that we can use this to avoid catastrophic cancellation. Let us pick the root that is larger, which we know is close to $-10^8$:"
   ]
  },
  {
   "cell_type": "code",
   "execution_count": null,
   "id": "110836fb",
   "metadata": {},
   "outputs": [
    {
     "name": "stdout",
     "output_type": "stream",
     "text": [
      "Regula Falsi Method... \t Root 1: -100000000.0 Root 2: -1e-08\n",
      "Newton's Method... \t Root 1: -1e-08 Root 2: -100000000.0\n"
     ]
    }
   ],
   "source": [
    "# Regula Falsi Method\n",
    "def RegulaFalsiMethod(func, a, b, err) -> float:\n",
    "    # Takes a real-valued function, an interval where it crosses the x-axis, and a desired error from 0 to output a value close to the zero of the function\n",
    "    a_eval = func(a)\n",
    "    b_eval = func(b)\n",
    "#     print(\"a_eval:\", a_eval, \"b_eval:\", b_eval) # Debug\n",
    "    # Edge cases\n",
    "    if a_eval == 0:\n",
    "        return a\n",
    "    elif b_eval == 0:\n",
    "        return b\n",
    "    elif a_eval * b_eval > 0:\n",
    "        return None\n",
    "    \n",
    "    low = a\n",
    "    high = b\n",
    "    c = (low*func(high) - high*func(low))/(func(high) - func(low))\n",
    "    c_eval = func(c)\n",
    "    low_eval = func(low)\n",
    "    high_eval = func(high)\n",
    "    while(abs(c_eval) > 10**(-err-1)):\n",
    "        if (func(c) * low_eval < 0):\n",
    "            high = c          \n",
    "        elif (c_eval * high_eval < 0):\n",
    "            low = c\n",
    "        else:\n",
    "            return c\n",
    "        \n",
    "        low_eval = func(low)\n",
    "        high_eval = func(high)\n",
    "        if func(high) - func(low) == 0:\n",
    "            return None\n",
    "        c = (low*func(high) - high*func(low))/(func(high) - func(low))\n",
    "        c_eval = func(c)\n",
    "        \n",
    "    \n",
    "    return c\n",
    "\n",
    "# Newton's Method\n",
    "def NewtonsMethod(func, derv, x_0, err) -> float:\n",
    "    # Uses Newton's Method of finding roots. Has quadratic convergence time (versus log convergence)\n",
    "    fun_eval = func(x_0)\n",
    "    der_eval = derv(x_0)\n",
    "#     print(\"fun_eval:\", fun_eval, \"der_eval:\", der_eval) # Debug\n",
    "    # Edge cases\n",
    "    if fun_eval == 0:\n",
    "        return x_0\n",
    "    elif der_eval == 0:\n",
    "        return None\n",
    "    \n",
    "    x_n = x_0\n",
    "    x_n1 = x_n - (fun_eval/der_eval)\n",
    "    while(abs(fun_eval) > 10**(-err)):\n",
    "        fun_eval = func(x_n1)\n",
    "        der_eval = derv(x_n1)\n",
    "#         print(\"f(x_n+1) =\", fun_eval, \"\\t f'(x_n+1) =\", der_eval) # updating x-vals - Debug\n",
    "#         print(\"f(x_n+1) =\", fun_eval, \"\\t f'(x_n+1) =\", der_eval) # updating f and f' - Debug\n",
    "        if der_eval == 0:\n",
    "            return None\n",
    "        \n",
    "        x_n = x_n1\n",
    "        x_n1 = x_n - (fun_eval/der_eval)\n",
    "        \n",
    "    return x_n1\n",
    "\n",
    "\n",
    "def func(x: float) -> float:\n",
    "    val = x**2 + 1 + (10**8 * x)\n",
    "    return val\n",
    "\n",
    "def derv(x: float) -> float:\n",
    "    val = 2*x + 10**8\n",
    "    return val\n",
    "\n",
    "RFroot = RegulaFalsiMethod(func, -1 * 10**8, -1 * 10**7, 6)\n",
    "print(\"Regula Falsi Method... \\t Root 1:\", RFroot, \"Root 2:\", (1 / RFroot))\n",
    "\n",
    "NWroot = NewtonsMethod(func, derv, 10**8, 6)\n",
    "print(\"Newton's Method... \\t Root 1:\", NWroot, \"Root 2:\", (1 / NWroot))\n",
    "# Newton's Method diverges when trying to find the smaller root."
   ]
  },
  {
   "cell_type": "markdown",
   "id": "cd98e9dd",
   "metadata": {},
   "source": [
    "# Numerical Differentiation\n",
    "We start with the simple formula\n",
    "\n",
    "$$f'(x) \\approx \\frac{f(x + h) - f(x)}{h}$$\n",
    "\n",
    "for some small $h > 0$. Since we know that\n",
    "\n",
    "$$f'(x) = \\lim_{h \\to 0} \\frac{f(x + h) - f(x)}{h}$$\n",
    "\n",
    "we understand that this can be an approximation to this value, where if we can understand the function\n",
    "\n",
    "$$df(x, h) = \\frac{f(x + h) - f(x)}{h}$$\n",
    "\n",
    "for some fixed $x$, then we get that properties like monotonicity or bounds will help us understand our approximation to the derivative.\n",
    "\n",
    "Remark. We are actually approximating the tangent line via a secant line. As our secant line gets tighter, it will converge to the tangent line."
   ]
  },
  {
   "cell_type": "code",
   "execution_count": 5,
   "id": "80d8f4ad",
   "metadata": {},
   "outputs": [],
   "source": [
    "def FirstDeriv(f,a,b,N):\n",
    "    x = np.linspace(a,b,N+1)\n",
    "    h = x[1] - x[0]\n",
    "    df = np.array([ (f(x[1:]) - f(x[0:-1])) / h ])\n",
    "    return df"
   ]
  },
  {
   "cell_type": "markdown",
   "id": "002dca3f",
   "metadata": {},
   "source": [
    "# Some more Differentiation Formulae\n",
    "Let $f$ be a smooth function on $\\mathbb{R}$ or $\\mathbb{C}$. Then we know that for some $x_0$ in the domain of $f$, we may approximate $f(x)$ for some $x$ within a distance to $x_0$ via a Taylor series:\n",
    "\n",
    "$$f(x) = f(x_0) + \\sum_{n = 1}^{\\infty} \\frac{f^{(n)}(x_0) (x - x_0)^n}{n!} = f(x_0) + \\frac{f^{(1)}(x_0) (x - x_0)}{1} + \\frac{f^{(2)}(x_0) (x - x_0)^2}{2} + \\frac{f^{(3)}(x_0) (x - x_0)^3}{6} + \\cdots$$\n",
    "\n",
    "Now, if we replace $x$ with $x + h$, and $x_0$ with $x$, we get\n",
    "\n",
    "$$f(x + h) = \\sum_{n = 0}^{\\infty} \\frac{f^{(n)}(x) h^n}{n!} = f(x) + f^{(1)}(x) h + \\frac{f^{(2)}(x) h^2}{2} + \\frac{f^{(3)}(x) h^3}{6} + \\cdots$$\n",
    "\n",
    "We can solve for $f'(x)$ in this equation to give us\n",
    "\n",
    "$$f^{(1)}(x) = \\frac{f(x + h) - f(x)}{h} - \\frac{f^{(2)}(x) h}{2} + \\frac{f^{(3)}(x) h^2}{6} + \\cdots$$\n",
    "\n",
    "which turns into\n",
    "\n",
    "$$f^{(1)}(x) = \\frac{f(x + h) - f(x)}{h} - \\sum_{n = 1}^{\\infty} \\frac{f^{(n+1)}(x) h^n}{(n+1)!}\\\\ =  \\frac{f(x + h) - f(x)}{h} + \\mathcal{O}(h)$$\n",
    "\n",
    "giving us a higher order approximation of $f^{(1)}(x)$ in case we cannot shrink our $h$. This is nice because this is an equality, and is true for any $|h| > 0$ such that $B(x, h)$ is contained in the domain of convergence of the Taylor Series. Notice, however, that this method requires us to know the higher derivatives of $f$. This equation can perhaps be useful when we are trying to prove results about the derivative of $f$ if we assume $f$ is smooth (i.e. suppose $f$ has vanishing derivatives for all derivatives above some $n$. Is this possible under some additional conditions on $f$? Alternatively, what if $x$ is a critical point of $f$? Then, we have a formula for computing the rest of the terms of the Taylor series around $x$, as well as a valid way of computing their actual values, see below:)\n",
    "\n",
    "$$\\frac{f(x + h) - f(x)}{h} = \\sum_{n = 1}^{\\infty} \\frac{f^{(n+1)}(x) h^n}{(n+1)!},$$\n",
    "\n",
    "so\n",
    "\n",
    "$$f(x + h) = f(x) + \\frac{f(x + h) - f(x)}{h} \\\\= \\frac{f(x + h) + (h - 1) f(x)}{h}$$\n",
    "\n",
    "\n",
    "## Acceptable Negligence\n",
    "If we say that we can ignore all terms of size bounded above by $h^k$ for some positive integer $k$, then we see that\n",
    "\n",
    "$$f^{(1)}(x) = \\frac{f(x + h) - f(x)}{h} - \\sum_{n = 1}^{\\infty} \\frac{f^{(n+1)}(x) h^n}{(n+1)!}\\\\ =  \\frac{f(x + h) - f(x)}{h} - \\sum_{n = 1}^{k} \\frac{f^{(n+1)}(x) h^n}{(n+1)!} + \\mathcal{O}(h^{k +1})$$\n",
    "\n",
    "which gives us a sufficiently good approximation."
   ]
  },
  {
   "cell_type": "code",
   "execution_count": 2,
   "id": "7fd68009",
   "metadata": {},
   "outputs": [],
   "source": [
    "# First Derivatives: h and h^2\n",
    "for_first_derv = lambda func, x, h: (func(x + h) - func(x)) / h\n",
    "back_first_derv = lambda func, x, h: (func(x) - func(x - h)) / h\n",
    "central_first_derv = lambda func, x, h: (func(x + h) - func(x - h)) / (2*h)"
   ]
  },
  {
   "cell_type": "code",
   "execution_count": 3,
   "id": "dd6efd7c",
   "metadata": {},
   "outputs": [],
   "source": [
    "# Second Derivatives: h and h^2\n",
    "for_second_derv = lambda func, x, h: (func(x + 2*h) - 2*func(x + h) + func(x)) / (h**2)\n",
    "back_second_derv = lambda func, x, h: (func(x) - 2*func(x - h) + func(x - 2*h)) / (h**2)\n",
    "central_second_derv = lambda func, x, h: (func(x + h) + func(x - h) - 2*func(x)) / (2*h**2)"
   ]
  },
  {
   "cell_type": "code",
   "execution_count": 4,
   "id": "7094acd6",
   "metadata": {},
   "outputs": [],
   "source": [
    "# Third Derivatives: h and h^2\n",
    "for_third_derv = lambda func, x, h: (func(x + (3*h)) - (3*func(x + (2*h))) + (3*func(x + h)) - func(x))/(h**3)\n",
    "back_third_derv = lambda func, x, h: (func(x) - (3*func(x - h)) + (3*func(x - (2*h))) - func(x - (3*h)))/(h**3)\n",
    "central_third_derv = lambda func, x, h: (func(x + (2*h)) - func(x - (2*h)) - 2*(func(x + h) - func(x - h)) )/(2*(h**3))"
   ]
  },
  {
   "cell_type": "markdown",
   "id": "71c958a3",
   "metadata": {},
   "source": [
    "# Integration\n",
    "\n",
    "## Trapezoid Rule\n",
    "This method has $O(h^3)$ error, for $h = \\frac{a-b}{2}$, as we have for $I = \\int_{a}^{b} f(x)dx$ can be approximated by\n",
    "\n",
    "$$I = (b-a)\\frac{f(a) + f(b)}{2} + E$$\n",
    "\n",
    "where\n",
    "\n",
    "$$E = \\frac{-1}{12} f^{(2)}(\\zeta)(b-a)^3$$\n",
    "\n",
    "for some $a < \\zeta < b$."
   ]
  },
  {
   "cell_type": "code",
   "execution_count": 6,
   "id": "80632da2",
   "metadata": {},
   "outputs": [
    {
     "name": "stdout",
     "output_type": "stream",
     "text": [
      "Value of n: 1, \t Estimated Value: 13.5 \t Relative Error: 50.0%\n",
      "Value of n: 2, \t Estimated Value: 10.125 \t Relative Error: 12.5%, \t Decrease in Error: 4.0\n",
      "Value of n: 3, \t Estimated Value: 9.5 \t Relative Error: 5.555555555555555%, \t Decrease in Error: 2.25\n",
      "Value of n: 4, \t Estimated Value: 9.28125 \t Relative Error: 3.125%, \t Decrease in Error: 1.7777777777777777\n",
      "Value of n: 5, \t Estimated Value: 9.18 \t Relative Error: 1.999999999999997%, \t Decrease in Error: 1.5625000000000024\n"
     ]
    }
   ],
   "source": [
    "# Integration Code - Trapezoid Method\n",
    "def forward_trap_integrator(func, a : float, b : float, n : float) -> float:\n",
    "    h = abs(b-a)/n\n",
    "    x = a\n",
    "    sum = 0\n",
    "    while(x < b):\n",
    "        sum += (0.5*h)*(func(x) + func(x + h))\n",
    "        x += h\n",
    "\n",
    "    return sum\n",
    "\n",
    "f = lambda x: x**2\n",
    "\n",
    "rel_errors = []\n",
    "for i in range(1, 6):\n",
    "    est = forward_trap_integrator(func=f, a=0, b=3, n=i)\n",
    "    rel_err = 100*abs(est-9)/9\n",
    "    rel_errors.append(rel_err)\n",
    "    if (i == 1):\n",
    "        print(f'Value of n: {i}, \\t Estimated Value: {est} \\t Relative Error: {rel_errors[i-1]}%')\n",
    "    if (i > 1):\n",
    "        print(f'Value of n: {i}, \\t Estimated Value: {est} \\t Relative Error: {rel_errors[i-1]}%, \\t Decrease in Error: {rel_errors[i-2]/rel_errors[i-1]}')"
   ]
  },
  {
   "cell_type": "markdown",
   "id": "3c81d523",
   "metadata": {},
   "source": [
    "## Simpson's Rule\n",
    "\n",
    "This is a higher order approximation for the area under a curve. While we fit linear lines for the trapezoid method, here we fit a quadratic equation. Let $I$ be defined as before. Then, we may approximate $I$ as\n",
    "\n",
    "$$I  = \\frac{h}{3} [f(x_0) + 4f(x_1) + f(x_2)] + E$$\n",
    "\n",
    "where\n",
    "\n",
    "$$E = \\frac{-1}{90}h^5 f^{(4)}(\\zeta) = \\frac{(a - b)^5}{2880} f^{(4)}(\\zeta)$$\n",
    "\n",
    "for $h = \\frac{b - a}{2}$. This has error of the order $O(h^5)$. We can chain these together to integrate over a large region. This can give a large, clean expression as we had in the trapezoidal rule."
   ]
  },
  {
   "cell_type": "code",
   "execution_count": 14,
   "id": "82f03649",
   "metadata": {},
   "outputs": [],
   "source": [
    "# Simpson's 1/3 rule\n",
    "def simpson_1(func, a, b, n = 100):\n",
    "    if (n % 2 == 1): # Edge case: when n is odd\n",
    "        n = n + 1\n",
    "\n",
    "    x = a\n",
    "    h = (b - a) / n\n",
    "    s = func(a) + func(b)\n",
    "    for i in range(1, n):\n",
    "        x = x + h\n",
    "\n",
    "        if (i % 2 == 1):\n",
    "            s = s + 4 * func(x)\n",
    "        else:\n",
    "            s = s + 2 * func(x)\n",
    "    return s * (h/3)"
   ]
  },
  {
   "cell_type": "code",
   "execution_count": 39,
   "id": "5760bd36",
   "metadata": {},
   "outputs": [
    {
     "name": "stdout",
     "output_type": "stream",
     "text": [
      "0.25000000000000044\n"
     ]
    }
   ],
   "source": [
    "print(simpson_1(lambda x: x**3, 0, 1, 100))"
   ]
  },
  {
   "cell_type": "code",
   "execution_count": 27,
   "id": "e17a629d",
   "metadata": {},
   "outputs": [],
   "source": [
    "# a more efficient implementation of simpson's rule\n",
    "def simpson_2(func, a, b, n=100):\n",
    "    if (n % 2 == 1): # Edge case: when n is odd\n",
    "        n = n + 1\n",
    "    h = (b - a) / n\n",
    "    x = np.linspace(a, b, n + 1) # need to add one extra point since linspace takes number of points, not number of segments\n",
    "    y = func (x)\n",
    "    return (h / 3) * (y[0] + (4 * np.sum(y[1: -1: 2])) + (2 * np.sum(y[2: -1: 2])) + y[-1])"
   ]
  },
  {
   "cell_type": "code",
   "execution_count": 38,
   "id": "be5b49ba",
   "metadata": {},
   "outputs": [
    {
     "name": "stdout",
     "output_type": "stream",
     "text": [
      "0.25\n"
     ]
    }
   ],
   "source": [
    "print(simpson_2(lambda x: x**3, 0, 1, 100))"
   ]
  },
  {
   "cell_type": "markdown",
   "id": "3c74fb12",
   "metadata": {},
   "source": [
    "## Normal Distribution\n",
    "\n",
    "Let us try and integrate the normal distribution, a function that cannot be integrated analytically.\n",
    "\n",
    "$$\\frac{1}{\\sqrt{2 \\pi} \\sigma} e^{- \\frac{(x - \\mu)^2}{2 \\sigma^2}}$$"
   ]
  },
  {
   "cell_type": "code",
   "execution_count": 60,
   "id": "88109857",
   "metadata": {},
   "outputs": [
    {
     "data": {
      "image/png": "[encoded data removed]",
      "text/plain": [
       "<Figure size 640x480 with 1 Axes>"
      ]
     },
     "metadata": {},
     "output_type": "display_data"
    },
    {
     "name": "stdout",
     "output_type": "stream",
     "text": [
      "Integral from -1000 to 1000, using the fact that this distribution is symmetric: 1.0\n",
      "Integral from -0.4 to 0.6, using the fact that this distribution is symmetric: 0.38116862386025063\n"
     ]
    }
   ],
   "source": [
    "normal = lambda x, mu=0, sigma=1: (np.exp(-1 * (x - mu)**2 / (2 * sigma**2)))/(np.sqrt(2 * np.pi) * sigma)\n",
    "x = np.linspace(-5, 5, 10000)\n",
    "y = normal(x, mu=0, sigma=1)\n",
    "plt.plot(x,y)\n",
    "plt.title(\"Normal Distribution with mean = 0, std dev = 1\")\n",
    "plt.grid()\n",
    "plt.show()\n",
    "print(\"Integral from -1000 to 1000, using the fact that this distribution is symmetric:\", 2*simpson_2(normal, 0, 1000, 100000))\n",
    "print(\"Integral from -0.4 to 0.6, using the fact that this distribution is symmetric:\", 2*simpson_2(normal, 0, 0.4, 2000) + simpson_2(normal, 0.4, 0.6, 1000))"
   ]
  },
  {
   "cell_type": "code",
   "execution_count": 61,
   "id": "d714335e",
   "metadata": {},
   "outputs": [],
   "source": [
    "# Define an array of cumulative sums\n",
    "def trap_cumulative(x, y):\n",
    "    n = len(x)\n",
    "    s = np.zeros(n)\n",
    "    for k in range(1, n):\n",
    "        s[k] = s[k - 1] + (x[k] - x[k - 1])*(y[k] + y[k-1])/2\n",
    "    \n",
    "    return s"
   ]
  },
  {
   "cell_type": "code",
   "execution_count": 65,
   "id": "6949734f",
   "metadata": {},
   "outputs": [
    {
     "data": {
      "image/png": "[encoded data removed]",
      "text/plain": [
       "<Figure size 640x480 with 1 Axes>"
      ]
     },
     "metadata": {},
     "output_type": "display_data"
    }
   ],
   "source": [
    "# plot the cumulative function\n",
    "x = np.linspace(-5, 5, 10000)\n",
    "y = normal(x, mu=0, sigma=1)\n",
    "s = trap_cumulative(x=x, y=y)\n",
    "\n",
    "plt.plot(x, s)\n",
    "plt.xlabel(\"x\")\n",
    "plt.ylabel('Cumulative sum')\n",
    "plt.grid()\n",
    "plt.title(\"Cumulative Sum of Normal Distribution\")\n",
    "plt.show()"
   ]
  },
  {
   "cell_type": "code",
   "execution_count": null,
   "id": "81907bbb",
   "metadata": {},
   "outputs": [],
   "source": []
  }
 ],
 "metadata": {
  "kernelspec": {
   "display_name": "Python 3 (ipykernel)",
   "language": "python",
   "name": "python3"
  },
  "language_info": {
   "codemirror_mode": {
    "name": "ipython",
    "version": 3
   },
   "file_extension": ".py",
   "mimetype": "text/x-python",
   "name": "python",
   "nbconvert_exporter": "python",
   "pygments_lexer": "ipython3",
   "version": "3.10.9"
  }
 },
 "nbformat": 4,
 "nbformat_minor": 5
}
