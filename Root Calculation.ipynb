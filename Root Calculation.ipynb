{
 "cells": [
  {
   "cell_type": "markdown",
   "id": "7484bd92",
   "metadata": {},
   "source": [
    "# Newton's Method for Calculating Square Roots\n",
    "This method, even though its named after Sir Issac Newton, was in use by the Babylonians. Note the incredibly accuracy in comparison with the python standard math library.\n",
    "\n",
    "Remark.\n",
    "$$\\log_{10}(2^{32}) \\approx 9.63295986125$$\n",
    "which is why we can only guarantee this level of precision in decimals. See that\n",
    "$$\\log_{10}(2^{b}) = b \\log_{10}(2) = b \\cdot 0.30102999566$$\n",
    "which gives us an idea of how many decimal places or precision we can get for however many bits we store. So with 10 bits, we can only get over 3 digits of decimal precision."
   ]
  },
  {
   "cell_type": "code",
   "execution_count": 1,
   "id": "4a19feae",
   "metadata": {},
   "outputs": [],
   "source": [
    "def square_root(N: int, err: int) -> float:\n",
    "    # \"Newton's Method\" to calculate square roots\n",
    "    old_guess = N / 2\n",
    "    new_guess = ((N / old_guess) + old_guess) / 2\n",
    "    while(abs(old_guess - new_guess) > 10**(-err)):\n",
    "        old_guess = new_guess\n",
    "        new_guess = ((N / old_guess) + old_guess) / 2\n",
    "    \n",
    "    return new_guess"
   ]
  },
  {
   "cell_type": "code",
   "execution_count": 2,
   "id": "174e0182",
   "metadata": {},
   "outputs": [
    {
     "name": "stdout",
     "output_type": "stream",
     "text": [
      "Math Library: 26.832815729997478 | Ran in --- 1.5974044799804688e-05 seconds ---\n",
      "My function: 26.832815729997478 | Ran in --- 1.7881393432617188e-05 seconds ---\n",
      "Absolute Error: 0.0\n",
      "Relative Error, in favor of math method: 0.0\n",
      "Time difference: 1.9073486328125e-06 - tenths-of-seconds\n"
     ]
    }
   ],
   "source": [
    "# Time keeping and comparison\n",
    "import time\n",
    "from math import sqrt\n",
    "n = 720\n",
    "\n",
    "math_start_time = time.time()\n",
    "math_val = sqrt(n)\n",
    "math_end_time = time.time()\n",
    "math_elapsed = math_end_time - math_start_time\n",
    "\n",
    "start_time = time.time()\n",
    "func_val = square_root(n, 6)\n",
    "end_time = time.time()\n",
    "my_func_elapsed = end_time - start_time\n",
    "\n",
    "print(\"Math Library:\", math_val, \"| Ran in --- %s seconds ---\" % (math_elapsed))\n",
    "print(\"My function:\", func_val, \"| Ran in --- %s seconds ---\" % (my_func_elapsed))\n",
    "print(\"Absolute Error:\", abs(func_val - math_val))\n",
    "print(\"Relative Error, in favor of math method:\", abs(func_val - math_val) / math_val)\n",
    "print(\"Time difference: %s - tenths-of-seconds\" % (my_func_elapsed - math_elapsed))"
   ]
  },
  {
   "cell_type": "markdown",
   "id": "136f280c",
   "metadata": {},
   "source": [
    "# Bisection Method for Calculating Regular Roots\n",
    "This is an implementation of the binary search algorithm to calculate general integer roots of other integers. This has $O(\\log(n))$ time complexity."
   ]
  },
  {
   "cell_type": "code",
   "execution_count": 3,
   "id": "a4c8bb12",
   "metadata": {},
   "outputs": [],
   "source": [
    "def general_roots(base: int, exp: int, err: int) -> float:\n",
    "    # Bisection Method\n",
    "    low = 1\n",
    "    mid = (base + 1) / 2 # Midpoint\n",
    "    high = base\n",
    "    mid_exp = mid**exp\n",
    "    while(abs(mid_exp - base) > 10**(-err)):\n",
    "        if (mid_exp > base):\n",
    "            high = mid\n",
    "            mid += low\n",
    "            mid /= 2\n",
    "            mid_exp = mid**exp\n",
    "        elif (mid_exp < base):\n",
    "            low = mid\n",
    "            mid += high\n",
    "            mid /= 2\n",
    "            mid_exp = mid**exp\n",
    "        else:\n",
    "            return mid\n",
    "        \n",
    "    return mid"
   ]
  },
  {
   "cell_type": "code",
   "execution_count": 4,
   "id": "8805cc7f",
   "metadata": {},
   "outputs": [
    {
     "name": "stdout",
     "output_type": "stream",
     "text": [
      "Math Library: 1.2589254117941673 | Ran in --- 1.9073486328125e-05 seconds ---\n",
      "My function: 1.2589254117941664 | Ran in --- 2.6941299438476562e-05 seconds ---\n",
      "Absolute Error: 8.881784197001252e-16\n",
      "Relative Error, in favor of math method: 7.055051962406025e-16\n",
      "Time difference: 7.867813110351562e-06 tenths-of-seconds\n"
     ]
    }
   ],
   "source": [
    "n = 10\n",
    "exp = 10\n",
    "error = 12\n",
    "\n",
    "math_start_time = time.time()\n",
    "math_val = n**(1/exp)\n",
    "math_end_time = time.time()\n",
    "math_elapsed = math_end_time - math_start_time\n",
    "\n",
    "\n",
    "start_time = time.time()\n",
    "func_val = general_roots(n, exp, error)\n",
    "end_time = time.time()\n",
    "my_func_elapsed = end_time - start_time\n",
    "\n",
    "\n",
    "print(\"Math Library:\", math_val, \"| Ran in --- %s seconds ---\" % (math_elapsed))\n",
    "print(\"My function:\", func_val, \"| Ran in --- %s seconds ---\" % (my_func_elapsed))\n",
    "print(\"Absolute Error:\", abs(func_val - math_val))\n",
    "print(\"Relative Error, in favor of math method:\", abs(func_val - math_val) / math_val)\n",
    "print(\"Time difference: %s tenths-of-seconds\" % (my_func_elapsed - math_elapsed))"
   ]
  },
  {
   "cell_type": "markdown",
   "id": "94971dcd",
   "metadata": {},
   "source": [
    "# Bisection Method\n",
    "Find $x$ when $f(x) = 0$:\n",
    "\n",
    "Assume that $f$ is continuous in the closed interval $[a,b]$.\n",
    "\n",
    "(1) Check that $f(a)$ and $f(b)$ have opposite signs.\n",
    "\n",
    "(2) Calculate $c = \\frac{a + b}{2}$, the midpoint of the two points.\n",
    "\n",
    "(3) Calculate $f(c)$.\n",
    "\n",
    "(4) If $f(c)$ is close enough to zero, stop iterating. Otherwise depending on how far it is, take a new interval $[a, f(c)]$ or $[f(c), b]$ and perform a binary search on this interval.\n",
    "\n",
    "Try this on the following functions from $[0,5]$\n",
    "\n",
    "$f(x) = \\sin(x) + x^2$\n",
    "\n",
    "$g(x) = 2 * \\ln(x) + 5$\n",
    "\n",
    "$h(x) = \\sin(x) + x^2 - 2 * \\ln(x) - 5$"
   ]
  },
  {
   "cell_type": "code",
   "execution_count": 24,
   "id": "7f6cfc26",
   "metadata": {},
   "outputs": [
    {
     "name": "stderr",
     "output_type": "stream",
     "text": [
      "/var/folders/ky/r_bpjsyd6h97cqjfvq97mgx40000gn/T/ipykernel_11933/3080996823.py:10: RuntimeWarning: invalid value encountered in log\n",
      "  g = (2 * np.log(x)) + 5\n",
      "/var/folders/ky/r_bpjsyd6h97cqjfvq97mgx40000gn/T/ipykernel_11933/3080996823.py:11: RuntimeWarning: invalid value encountered in log\n",
      "  h = np.sin(x) + x**2 - (2 * np.log(x)) - 5\n"
     ]
    },
    {
     "data": {
      "image/png": "[encoded data removed]",
      "text/plain": [
       "<Figure size 640x480 with 1 Axes>"
      ]
     },
     "metadata": {},
     "output_type": "display_data"
    },
    {
     "name": "stderr",
     "output_type": "stream",
     "text": [
      "No artists with labels found to put in legend.  Note that artists whose label start with an underscore are ignored when legend() is called with no argument.\n"
     ]
    },
    {
     "data": {
      "text/plain": [
       "<matplotlib.legend.Legend at 0x12e97ab90>"
      ]
     },
     "execution_count": 24,
     "metadata": {},
     "output_type": "execute_result"
    },
    {
     "data": {
      "image/png": "[encoded data removed]",
      "text/plain": [
       "<Figure size 640x480 with 1 Axes>"
      ]
     },
     "metadata": {},
     "output_type": "display_data"
    }
   ],
   "source": [
    "# Plotting\n",
    "%matplotlib notebook\n",
    "%matplotlib inline\n",
    "\n",
    "import matplotlib.pyplot as plt\n",
    "import numpy as np\n",
    "\n",
    "x = np.linspace(-5, 5, 100)\n",
    "f = np.sin(x) + x**2\n",
    "g = (2 * np.log(x)) + 5\n",
    "h = np.sin(x) + x**2 - (2 * np.log(x)) - 5\n",
    "z = 0 * x\n",
    "plt.plot(x, f, color='red')\n",
    "plt.plot(x, g, color='green')\n",
    "plt.plot(x, h, color='blue')\n",
    "plt.plot(x, z, color='black')\n",
    "plt.xlim(0,5)\n",
    "\n",
    "plt.show()\n",
    "plt.legend()"
   ]
  },
  {
   "cell_type": "markdown",
   "id": "df70d031",
   "metadata": {},
   "source": [
    "# Bisection Method"
   ]
  },
  {
   "cell_type": "code",
   "execution_count": 21,
   "id": "8afddd01",
   "metadata": {},
   "outputs": [],
   "source": [
    "def BisectionMethod(func, a, b, err) -> float:\n",
    "    # Takes a real-valued function, an interval where it crosses the x-axis, and a desired error from 0 to output a value close to the zero of the function\n",
    "    a_eval = func(a)\n",
    "    b_eval = func(b)\n",
    "#     print(\"a_eval:\", a_eval, \"b_eval:\", b_eval) # Debug\n",
    "    # Edge cases\n",
    "    if a_eval == 0:\n",
    "        return a\n",
    "    elif b_eval == 0:\n",
    "        return b\n",
    "    elif a_eval * b_eval > 0:\n",
    "        return None\n",
    "    \n",
    "    low = a\n",
    "    high = b\n",
    "    c = (a + b) / 2\n",
    "    c_eval = func(c)\n",
    "    low_eval = func(low)\n",
    "    high_eval = func(high)\n",
    "    while(abs(c_eval) > 10**(-err)):\n",
    "        if (func(c) * low_eval < 0):\n",
    "            high = c          \n",
    "        elif (c_eval * high_eval < 0):\n",
    "            low = c\n",
    "        else:\n",
    "            return c\n",
    "        c = (low + high) / 2\n",
    "        c_eval = func(c)\n",
    "        low_eval = func(low)\n",
    "        high_eval = func(high)\n",
    "    \n",
    "    return c"
   ]
  },
  {
   "cell_type": "code",
   "execution_count": 23,
   "id": "c3c5a5b4",
   "metadata": {},
   "outputs": [
    {
     "name": "stdout",
     "output_type": "stream",
     "text": [
      "0\n",
      "None\n",
      "2.495319366455078\n",
      "1.4142136573791504\n",
      "-1.4142134189605713\n"
     ]
    }
   ],
   "source": [
    "import numpy as np\n",
    "def f_x(x) -> float:\n",
    "    val = np.sin(x) + x*2\n",
    "    return val\n",
    "\n",
    "def g_x(x) -> float:\n",
    "    val = (2 * np.log(x)) - 5\n",
    "    return val\n",
    "\n",
    "def h_x(x) -> float:\n",
    "    val = np.sin(x) + x**2 - (2 * np.log(x)) - 5\n",
    "    return val\n",
    "\n",
    "def j_x(x) -> float:\n",
    "    val = x**2 - 2\n",
    "    return val\n",
    "\n",
    "B1 = BisectionMethod(f_x, 0, 5, 6)\n",
    "B2 = BisectionMethod(g_x, 1, 5, 6)\n",
    "B3 = BisectionMethod(h_x, 1, 5, 6)\n",
    "B4 = BisectionMethod(j_x, 1, 5, 6)\n",
    "B5 = BisectionMethod(j_x, -5, 1, 6)\n",
    "\n",
    "print(B1)\n",
    "print(B2)\n",
    "print(B3)\n",
    "print(B4)\n",
    "print(B5)"
   ]
  },
  {
   "cell_type": "markdown",
   "id": "9f31b7af",
   "metadata": {},
   "source": [
    "# Regula Falsi Method\n",
    "May cause significant or middling improvements in performance. This is a first order method that is faster on-average than bisection, but is still $\\log$ convergence. Issue can come if $f(high) - f(low) = 0$, but they would have to be VERY close for this to happen (this would be a computer error, or we unexpectedly hit a double value). "
   ]
  },
  {
   "cell_type": "code",
   "execution_count": 8,
   "id": "3c445a6f",
   "metadata": {},
   "outputs": [],
   "source": [
    "def RegulaFalseMethod(func, a, b, err) -> float:\n",
    "    # Takes a real-valued function, an interval where it crosses the x-axis, and a desired error from 0 to output a value close to the zero of the function\n",
    "    a_eval = func(a)\n",
    "    b_eval = func(b)\n",
    "#     print(\"a_eval:\", a_eval, \"b_eval:\", b_eval) # Debug\n",
    "    # Edge cases\n",
    "    if a_eval == 0:\n",
    "        return a\n",
    "    elif b_eval == 0:\n",
    "        return b\n",
    "    elif a_eval * b_eval > 0:\n",
    "        return None\n",
    "    \n",
    "    low = a\n",
    "    high = b\n",
    "    c = (low*func(high) - high*func(low))/(func(high) - func(low))\n",
    "    c_eval = func(c)\n",
    "    low_eval = func(low)\n",
    "    high_eval = func(high)\n",
    "    while(abs(c_eval) > 10**(-err)):\n",
    "        if (func(c) * low_eval < 0):\n",
    "            high = c          \n",
    "        elif (c_eval * high_eval < 0):\n",
    "            low = c\n",
    "        else:\n",
    "            return c\n",
    "        \n",
    "        low_eval = func(low)\n",
    "        high_eval = func(high)\n",
    "        if func(high) - func(low) == 0:\n",
    "            return None\n",
    "        c = (low*func(high) - high*func(low))/(func(high) - func(low))\n",
    "        c_eval = func(c)\n",
    "        \n",
    "    \n",
    "    return c"
   ]
  },
  {
   "cell_type": "code",
   "execution_count": 9,
   "id": "d6d6595e",
   "metadata": {},
   "outputs": [
    {
     "name": "stdout",
     "output_type": "stream",
     "text": [
      "0\n",
      "None\n",
      "2.495318954353694\n"
     ]
    }
   ],
   "source": [
    "import numpy as np\n",
    "def f_x(x) -> float:\n",
    "    val = np.sin(x) + x*2\n",
    "    return val\n",
    "\n",
    "def g_x(x) -> float:\n",
    "    val = (2 * np.log(x)) - 5\n",
    "    return val\n",
    "\n",
    "def h_x(x) -> float:\n",
    "    val = np.sin(x) + x**2 - (2 * np.log(x)) - 5\n",
    "    return val\n",
    "\n",
    "print(RegulaFalseMethod(f_x, 0, 5, 6))\n",
    "print(RegulaFalseMethod(g_x, 1, 5, 6))\n",
    "print(RegulaFalseMethod(h_x, 1, 5, 6))"
   ]
  },
  {
   "cell_type": "markdown",
   "id": "ba2dde7f",
   "metadata": {},
   "source": [
    "# Newton's Method"
   ]
  },
  {
   "cell_type": "code",
   "execution_count": 1,
   "id": "98d722e3",
   "metadata": {},
   "outputs": [],
   "source": [
    "def NewtonsMethod(func, derv, x_0, step, err) -> float:\n",
    "    # Uses Newton's Method of finding roots. Has quadratic convergence time (versus log convergence)\n",
    "    fun_eval = func(x_0)\n",
    "    der_eval = derv(x_0)\n",
    "#     print(\"fun_eval:\", fun_eval, \"der_eval:\", der_eval) # Debug\n",
    "    # Edge cases\n",
    "    if fun_eval == 0:\n",
    "        return x_0\n",
    "    elif der_eval == 0:\n",
    "        return None\n",
    "    \n",
    "    x_n = x_0\n",
    "    x_n1 = x_n - (fun_eval/der_eval)\n",
    "    while(abs(fun_eval) > 10**(-err)):\n",
    "        fun_eval = func(x_n1)\n",
    "        der_eval = derv(x_n1)\n",
    "#         print(\"f(x_n+1) =\", fun_eval, \"\\t f'(x_n+1) =\", der_eval) # updating x-vals - Debug\n",
    "#         print(\"f(x_n+1) =\", fun_eval, \"\\t f'(x_n+1) =\", der_eval) # updating f and f' - Debug\n",
    "        if der_eval == 0:\n",
    "            return None\n",
    "        \n",
    "        x_n = x_n1\n",
    "        x_n1 = x_n - (fun_eval/der_eval)\n",
    "        \n",
    "    return x_n1"
   ]
  },
  {
   "cell_type": "code",
   "execution_count": 11,
   "id": "239ad65c",
   "metadata": {},
   "outputs": [
    {
     "name": "stdout",
     "output_type": "stream",
     "text": [
      "-1.7692923542386314\n",
      "0.0\n"
     ]
    }
   ],
   "source": [
    "def newt_f(x) -> float:\n",
    "    val = x**3 - 2*x + 2\n",
    "    return val\n",
    "\n",
    "def newt_df(x) -> float:\n",
    "    val = 3*(x**2) - 2\n",
    "    return val\n",
    "\n",
    "def newt_g(x) -> float:\n",
    "    val = x**3 - 5*x\n",
    "    return val\n",
    "\n",
    "def newt_dg(x) -> float:\n",
    "    val = 3*(x**2) - 5\n",
    "    return val\n",
    "\n",
    "\n",
    "print(NewtonsMethod(newt_f, newt_df, -2, 0.5, 6))\n",
    "print(NewtonsMethod(newt_g, newt_dg, -0.5, 0.5, 6))"
   ]
  },
  {
   "cell_type": "markdown",
   "id": "80313268",
   "metadata": {},
   "source": [
    "# Secant Method\n",
    "We approximate the tangent line by using a secant line. This method is more robust than Newton's method as it does not require us to compute a derivative."
   ]
  },
  {
   "cell_type": "code",
   "execution_count": 12,
   "id": "d9fd40b0",
   "metadata": {},
   "outputs": [],
   "source": [
    "def SecantMethod(func, x_0, step, err) -> float:\n",
    "    # Approximates derivative, quasi-Newton method, still quadratic convergence\n",
    "    fnm1_eval = func(x_0)\n",
    "    x_nm1 = x_0\n",
    "    x_n = 0.0\n",
    "    x_m1 = x_0 - step\n",
    "    x_p1 = x_0 + step\n",
    "    fm1_eval = func(x_m1)\n",
    "    fp1_eval = func(x_p1)\n",
    "#     print(\"fmn1_eval:\", fnm1_eval, f'interval: [{x_m1}, {x_p1}]') # Debug\n",
    "    # Edge cases\n",
    "    if fnm1_eval == 0:\n",
    "        return x_0\n",
    "    if fnm1_eval * fm1_eval < 0:\n",
    "        x_n = x_m1\n",
    "    elif fnm1_eval * fp1_eval < 0:\n",
    "        x_n = x_p1\n",
    "    else:\n",
    "        x_n = x_m1\n",
    "    \n",
    "    fn_eval = func(x_n)\n",
    "    x_n1 = x_n - (fn_eval*(x_n - x_nm1)/(fn_eval - fnm1_eval))\n",
    "    fn1_eval = func(x_n1)\n",
    "    while(abs(fn1_eval) > 10**(-err)):\n",
    "        # Updating Values\n",
    "        x_nm1 = x_n\n",
    "        x_n = x_n1\n",
    "        fnm1_eval = fn_eval\n",
    "        fn_eval = func(x_n)\n",
    "        \n",
    "        # Iterative step\n",
    "        x_n1 = x_n - (fn_eval*(x_n - x_nm1)/(fn_eval - fnm1_eval))\n",
    "        fn1_eval = func(x_n1)\n",
    "        \n",
    "#         print(\"f(x_n+1) =\", fun_eval, \"\\t f'(x_n+1) =\", der_eval) # updating x-vals - Debug\n",
    "#         print(\"f(x_n+1) =\", fun_eval, \"\\t f'(x_n+1) =\", der_eval) # updating f and f' - Debug\n",
    "        \n",
    "    return x_n1"
   ]
  },
  {
   "cell_type": "code",
   "execution_count": 13,
   "id": "2f36b35f",
   "metadata": {},
   "outputs": [
    {
     "name": "stdout",
     "output_type": "stream",
     "text": [
      "-1.7692923548779316\n",
      "-0.816496581119428\n",
      "-2.236067988210009\n",
      "-1.2909944457965612\n"
     ]
    }
   ],
   "source": [
    "def sec_f(x) -> float:\n",
    "    val = x**3 - 2*x + 2\n",
    "    return val\n",
    "\n",
    "def sec_g(x) -> float:\n",
    "    val = 3*(x**2) - 2\n",
    "    return val\n",
    "\n",
    "def sec_h(x) -> float:\n",
    "    val = x**3 - 5*x\n",
    "    return val\n",
    "\n",
    "def sec_z(x) -> float:\n",
    "    val = 3*(x**2) - 5\n",
    "    return val\n",
    "\n",
    "\n",
    "print(SecantMethod(sec_f, -2, 0.5, 6))\n",
    "print(SecantMethod(sec_g, -1, 0.5, 6))\n",
    "print(SecantMethod(sec_h, -8, 0.5, 6))\n",
    "print(SecantMethod(sec_z, -0.5, 0.5, 6))"
   ]
  },
  {
   "cell_type": "markdown",
   "id": "d12d6997",
   "metadata": {},
   "source": [
    "### Running on an array"
   ]
  },
  {
   "cell_type": "code",
   "execution_count": null,
   "id": "234eecd5",
   "metadata": {},
   "outputs": [
    {
     "name": "stdout",
     "output_type": "stream",
     "text": [
      "Math Library:\n",
      " [26.832815729997478, 26.832815729997478, 26.832815729997478] \n",
      "\t Ran in --- [6.9141387939453125e-06, 1.1920928955078125e-06, 0.0] seconds ---\n",
      "\n",
      "My function:\n",
      " [26.832815729997478, 26.832815729997478, 26.832815729997478] \n",
      "\t Ran in --- [2.09808349609375e-05, 5.7220458984375e-06, 5.7220458984375e-06] seconds ---\n",
      "\n",
      "Absolute Error:\n",
      " [0.0, 0.0, 0.0]\n",
      "Relative Error, in favor of math method:\n",
      " [0.0, 0.0, 0.0]\n",
      "\n",
      "Time difference: [1.4066696166992188e-05, 4.5299530029296875e-06, 5.7220458984375e-06] - tenths-of-seconds\n"
     ]
    }
   ],
   "source": [
    "# Time keeping and comparison\n",
    "import time\n",
    "from math import sqrt\n",
    "\n",
    "a = [31000, 612373, 21391]\n",
    "b = []\n",
    "bt = []\n",
    "c = []\n",
    "ct = []\n",
    "math_val = 0\n",
    "func_val = 0\n",
    "\n",
    "for num in a:\n",
    "    math_start_time = time.time()\n",
    "    math_val = sqrt(n)\n",
    "    math_end_time = time.time()\n",
    "    b.append(math_val)\n",
    "    bt.append(math_end_time - math_start_time)\n",
    "\n",
    "for num in a:\n",
    "    start_time = time.time()\n",
    "    func_val = square_root(n, 8)\n",
    "    end_time = time.time()\n",
    "    c.append(math_val)\n",
    "    ct.append(end_time - start_time)\n",
    "\n",
    "\n",
    "print(\"Math Library:\\n\", b, \"\\n\\t Ran in --- %s seconds ---\\n\" % (bt))\n",
    "print(\"My function:\\n\", c, \"\\n\\t Ran in --- %s seconds ---\\n\" % (ct))\n",
    "print(\"Absolute Error:\\n\", [abs(b[i] - c[i]) for i in range(0, len(a))])\n",
    "print(\"Relative Error, in favor of math method:\\n\", [abs(b[i] - c[i]) / b[i] for i in range(0, len(a))])\n",
    "print(\"\\nTime difference: %s - tenths-of-seconds\" % ([ct[i] - bt[i] for i in range(0, len(a))]))"
   ]
  }
 ],
 "metadata": {
  "kernelspec": {
   "display_name": "Python 3 (ipykernel)",
   "language": "python",
   "name": "python3"
  },
  "language_info": {
   "codemirror_mode": {
    "name": "ipython",
    "version": 3
   },
   "file_extension": ".py",
   "mimetype": "text/x-python",
   "name": "python",
   "nbconvert_exporter": "python",
   "pygments_lexer": "ipython3",
   "version": "3.10.9"
  }
 },
 "nbformat": 4,
 "nbformat_minor": 5
}
