{
 "cells": [
  {
   "cell_type": "markdown",
   "id": "99ab634c",
   "metadata": {},
   "source": [
    "## LU and QR Decomposition\n",
    "Scroll to the bottom for the decompositions and explaination."
   ]
  },
  {
   "cell_type": "code",
   "execution_count": 1,
   "id": "01e84fe1",
   "metadata": {},
   "outputs": [],
   "source": [
    "import numpy as np"
   ]
  },
  {
   "cell_type": "code",
   "execution_count": 2,
   "id": "c67f5db3",
   "metadata": {},
   "outputs": [
    {
     "name": "stdout",
     "output_type": "stream",
     "text": [
      "[7 3 5]\n",
      "9.1104335791443 \n",
      "\n",
      "[[1 3]\n",
      " [5 7]]\n",
      "9.16515138991168\n"
     ]
    }
   ],
   "source": [
    "# define a vector\n",
    "u = np.array([7, 3, 5])\n",
    "print(u)\n",
    "\n",
    "print(np.linalg.norm(u), \"\\n\")\n",
    "\n",
    "# Create a 2x2 matrix\n",
    "m2D = np.array([[1,3], [5,7]])\n",
    "print(m2D)\n",
    "print(np.linalg.norm(m2D))"
   ]
  },
  {
   "cell_type": "code",
   "execution_count": 3,
   "id": "57ff3b30",
   "metadata": {},
   "outputs": [
    {
     "name": "stdout",
     "output_type": "stream",
     "text": [
      "[ 3  5  6 16]\n",
      "[ 9  6  7 12]\n",
      "[[13  3  4  5]\n",
      " [ 3  5 10  8]\n",
      " [ 9  6  7 12]]\n",
      "[[13  3  4]\n",
      " [ 3  5 10]\n",
      " [ 9  6  7]\n",
      " [ 4 16 14]]\n"
     ]
    }
   ],
   "source": [
    "m4D = np.array([[13, 3, 4, 5],\n",
    "                [3, 5, 10, 8],\n",
    "                [9, 6, 7, 12],\n",
    "                [4, 16, 14, 1]])\n",
    "\n",
    "#print second column\n",
    "print(m4D[:, 1])\n",
    "\n",
    "#print third row\n",
    "print(m4D[2,:])\n",
    "\n",
    "#print all but fourth row\n",
    "print(m4D[: 3])\n",
    "\n",
    "#print all but fourth column\n",
    "print(m4D[: ,:3])"
   ]
  },
  {
   "cell_type": "markdown",
   "id": "78d34d82",
   "metadata": {},
   "source": [
    "### Matrix Multiplication\n",
    "For a field $k$, if $A \\in \\text{GL}(n, j, k)$ and $B \\in \\text{GL}(j, m, k)$, then $AB \\in \\text{GL}(n, m, k)$.\n",
    "\n",
    "For $n - 1$ codimension one vectors in $k^n$, we may take their cross product to obtain an orthogonal vector in $k^n$. This can be achieved with np.cross(). The dot product can be achieved with np.dot().\n",
    "\n",
    "We can utilize np.dot to perform a matrix multiplication, which, as we recall, is noncommutative."
   ]
  },
  {
   "cell_type": "code",
   "execution_count": 4,
   "id": "8703bb6e",
   "metadata": {},
   "outputs": [
    {
     "name": "stdout",
     "output_type": "stream",
     "text": [
      "[[3 1]\n",
      " [2 5]] \n",
      "\n",
      " [[4 2]\n",
      " [5 3]] \n",
      "\n",
      "[[17  9]\n",
      " [33 19]]\n"
     ]
    }
   ],
   "source": [
    "m1 = np.array([[3,1], [2,5]])\n",
    "m2 = np.array([[4,2], [5,3]])\n",
    "print(m1, \"\\n\\n\", m2, \"\\n\")\n",
    "\n",
    "print(np.dot(m1, m2))"
   ]
  },
  {
   "cell_type": "code",
   "execution_count": 5,
   "id": "badf80d9",
   "metadata": {},
   "outputs": [
    {
     "name": "stdout",
     "output_type": "stream",
     "text": [
      "[[16 14]\n",
      " [21 20]]\n"
     ]
    }
   ],
   "source": [
    "# Noncommutative\n",
    "print(np.dot(m2, m1))"
   ]
  },
  {
   "cell_type": "markdown",
   "id": "91dac852",
   "metadata": {},
   "source": [
    "Some more ways of performing matrix operations:"
   ]
  },
  {
   "cell_type": "code",
   "execution_count": 6,
   "id": "86db0873",
   "metadata": {},
   "outputs": [
    {
     "name": "stdout",
     "output_type": "stream",
     "text": [
      "[[12  2]\n",
      " [10 15]]\n",
      "[[7 3]\n",
      " [7 8]]\n"
     ]
    }
   ],
   "source": [
    "# matrix element wise multiplication\n",
    "print(m1 * m2)\n",
    "\n",
    "# matrix element wise addition\n",
    "print(m1 + m2)"
   ]
  },
  {
   "cell_type": "code",
   "execution_count": 7,
   "id": "081f4f41",
   "metadata": {},
   "outputs": [
    {
     "name": "stdout",
     "output_type": "stream",
     "text": [
      "[[4 9 2]\n",
      " [3 5 7]\n",
      " [8 1 6]]\n",
      "[[4 3 8]\n",
      " [9 5 1]\n",
      " [2 7 6]]\n",
      "[[4 3 8]\n",
      " [9 5 1]\n",
      " [2 7 6]]\n"
     ]
    }
   ],
   "source": [
    "# transpose a matrix\n",
    "m = np.array([[4, 9, 2],\n",
    "              [3, 5, 7],\n",
    "              [8, 1, 6]])\n",
    "\n",
    "m_t = np.transpose(m)\n",
    "\n",
    "print(m)\n",
    "\n",
    "# Ways of performing a transposition\n",
    "print(m_t)\n",
    "print(m.T)"
   ]
  },
  {
   "cell_type": "code",
   "execution_count": 8,
   "id": "bef51e0d",
   "metadata": {},
   "outputs": [
    {
     "name": "stdout",
     "output_type": "stream",
     "text": [
      "359.9999999999997\n",
      "360.00000000000006\n"
     ]
    }
   ],
   "source": [
    "print(np.linalg.det(m))\n",
    "print(np.linalg.det(m_t))"
   ]
  },
  {
   "cell_type": "markdown",
   "id": "a168fd20",
   "metadata": {},
   "source": [
    "Taking the inverse of an arbitrary matrix is always expensive, as it requires a determinant be calculated - which is $O(n^3)$, versus running Gauss-Jordan, which is $O(n^2)$. Doing operations similar to Gauss-Jordan, such as LU and QR decomposition, will enable us to solve linear systems far faster than simply inverting a square matrix."
   ]
  },
  {
   "cell_type": "code",
   "execution_count": 9,
   "id": "a83757e4",
   "metadata": {},
   "outputs": [
    {
     "name": "stdout",
     "output_type": "stream",
     "text": [
      "[[ 0.06388889 -0.14444444  0.14722222]\n",
      " [ 0.10555556  0.02222222 -0.06111111]\n",
      " [-0.10277778  0.18888889 -0.01944444]]\n"
     ]
    }
   ],
   "source": [
    "# # O(n^2) for n the number of rows (which is equal to the number of columns in this case)\n",
    "m_inv = np.linalg.inv(m)\n",
    "print(m_inv)"
   ]
  },
  {
   "cell_type": "code",
   "execution_count": 10,
   "id": "b1c166b0",
   "metadata": {},
   "outputs": [
    {
     "name": "stdout",
     "output_type": "stream",
     "text": [
      "[[ 1.00000000e+00  0.00000000e+00 -3.46944695e-17]\n",
      " [ 1.24900090e-16  1.00000000e+00 -6.59194921e-17]\n",
      " [ 2.77555756e-17  0.00000000e+00  1.00000000e+00]]\n"
     ]
    }
   ],
   "source": [
    "# O(n^2) for n the number of rows\n",
    "print(np.dot(m, m_inv))"
   ]
  },
  {
   "cell_type": "markdown",
   "id": "ff7ec716",
   "metadata": {},
   "source": [
    "Instead we can perform LU and QR Decompositions. For a given square matrix $M$, we may decompose it into a product of two matricies. Here are their properties:\n",
    "\n",
    "## LU Decomposition\n",
    "\n",
    "$M = LU$, where $L$ is a lower-triangular matrix, meaning a triangular matrix with nonzero entries located only below its diagonal. Similarly, $U$ is an upper-triangular matrix, with nonzero entries only located above its diagaonal (in both cases they can be on the diagonal as well). We enjoy these types of matricies as they are very fast to invert, multiply, and solve systems using a process called back-substitution (they run in $O(n^2)$, while the inversion method runs in $O(n^3)$, giving us huge time-savings for large systems of linear equations). For more details, simply consult this wonderful summary from UC Davis' Math Department: https://www.math.ucdavis.edu/~linear/old/notes11.pdf.\n",
    "\n",
    "## QR Decomposition\n",
    "\n",
    "$M = QR$, where $Q$ is a real orthogonal matrix located in $O(n)$, the $n \\times n$ orthogonal group, and $R$ is an upper triangular matrix. This process has the added benefit that it is unique for invertible $M$. Another advantage of this process is that it provides a faster way to invert $M$, should we want to compute that without evaluating an expensive, $O(n^3)$ determinant. Since $Q$ is orthogonal, it satisfies $QQ^T = I$, meaning its transpose is its inverse. Transposing a matrix can be done in $O(n)$ operations. Similarly, inverting $R$, a triangular matrix, can be done in $O(n^2)$ operations, via backsubstitution (see: https://en.wikipedia.org/wiki/Triangular_matrix#Forward_and_back_substitution). Then, this means a QR decomposition and the inverse of a nonsingular matrix $M \\in GL(n,k)$, where $k = \\R$ in this case, can be done in $O(n^2)$ operations, giving us a huge speedup.\n",
    "\n",
    "$$M^{-1} = R^{-1} Q^{-1}.$$\n",
    "\n",
    "In fact, a QR decomposition leads to some pretty interesting theoretical results too! If you are looking at some fun Lie Group stuff, or frames of physical systems that is. I know from my math perspective that its already pretty nice. Here is a nice writeup about performing a QR decomposition using the Gram-Schmidt method: https://www.math.ucla.edu/~yanovsky/Teaching/Math151B/handouts/GramSchmidt.pdf"
   ]
  },
  {
   "cell_type": "code",
   "execution_count": 11,
   "id": "8f1186b9",
   "metadata": {},
   "outputs": [],
   "source": [
    "def myLU(A):\n",
    "    n = len(A)\n",
    "    L = np.eye(n, dtype=float)  # Initialize L as the identity matrix with float dtype\n",
    "    U = A.astype(float)         # Initialize U as a copy of A with float dtype\n",
    "\n",
    "    for k in range(n-1):\n",
    "        for i in range(k+1, n):\n",
    "            L[i, k] = U[i, k] / U[k, k]\n",
    "            U[i, k:n] -= L[i, k] * U[k, k:n]\n",
    "\n",
    "    return L, U\n",
    "\n",
    "def l_solve(L, b):\n",
    "    n = len(b)\n",
    "    x = np.zeros_like(b, dtype=float)\n",
    "    for i in range(n):\n",
    "        x[i] = (b[i] - np.dot(L[i, :i], x[:i])) / L[i, i]\n",
    "    return x\n",
    "\n",
    "def u_solve(U, y):\n",
    "    n = len(y)\n",
    "    x = np.zeros_like(y, dtype=float)\n",
    "\n",
    "    for i in range(n-1, -1, -1):\n",
    "        x[i] = (y[i] - np.dot(U[i, i+1:], x[i+1:])) / U[i, i]\n",
    "\n",
    "    return x\n",
    "\n",
    "def myQR(A):\n",
    "    n, m = A.shape # get the shape of A\n",
    "\n",
    "    Q = np.empty((n, n)) # initialize matrix Q\n",
    "    u = np.empty((n, n)) # initialize matrix u\n",
    "\n",
    "    u[:, 0] = A[:, 0]\n",
    "    Q[:, 0] = u[:, 0] / np.linalg.norm(u[:, 0])\n",
    "\n",
    "    for i in range(1, n):\n",
    "        u[:, i] = A[:, i]\n",
    "        for j in range(i):\n",
    "            u[:, i] -= (A[:, i] @ Q[:, j]) * Q[:, j] # get each u vector\n",
    "        Q[:, i] = u[:, i] / np.linalg.norm(u[:, i]) # compute each e vetor\n",
    "\n",
    "    R = np.zeros((n, m))\n",
    "    for i in range(n):\n",
    "        for j in range(i, m):\n",
    "            R[i, j] = A[:, j] @ Q[:, i]\n",
    "\n",
    "    return Q, R"
   ]
  },
  {
   "cell_type": "markdown",
   "id": "be9d620e",
   "metadata": {},
   "source": [
    "##### Example 1:"
   ]
  },
  {
   "cell_type": "code",
   "execution_count": 12,
   "id": "d7aa6819",
   "metadata": {},
   "outputs": [],
   "source": [
    "A = np.array([\n",
    "    [3, 6, 8],\n",
    "    [2, 7, -1],\n",
    "    [5, 2, 2]\n",
    "])\n",
    "\n",
    "b = np.array([-13, 4, 1])"
   ]
  },
  {
   "cell_type": "code",
   "execution_count": 13,
   "id": "5b2b2d35",
   "metadata": {},
   "outputs": [],
   "source": [
    "L, U = myLU(A)"
   ]
  },
  {
   "cell_type": "code",
   "execution_count": 14,
   "id": "4abbca29",
   "metadata": {},
   "outputs": [
    {
     "data": {
      "text/plain": [
       "array([[ 1.        ,  0.        ,  0.        ],\n",
       "       [ 0.66666667,  1.        ,  0.        ],\n",
       "       [ 1.66666667, -2.66666667,  1.        ]])"
      ]
     },
     "execution_count": 14,
     "metadata": {},
     "output_type": "execute_result"
    }
   ],
   "source": [
    "L"
   ]
  },
  {
   "cell_type": "code",
   "execution_count": 15,
   "id": "256fc9ef",
   "metadata": {},
   "outputs": [
    {
     "data": {
      "text/plain": [
       "array([[  3.        ,   6.        ,   8.        ],\n",
       "       [  0.        ,   3.        ,  -6.33333333],\n",
       "       [  0.        ,   0.        , -28.22222222]])"
      ]
     },
     "execution_count": 15,
     "metadata": {},
     "output_type": "execute_result"
    }
   ],
   "source": [
    "U"
   ]
  },
  {
   "cell_type": "code",
   "execution_count": 16,
   "id": "ccf5579e",
   "metadata": {},
   "outputs": [],
   "source": [
    "y = l_solve(L, b)"
   ]
  },
  {
   "cell_type": "code",
   "execution_count": 17,
   "id": "984be959",
   "metadata": {},
   "outputs": [
    {
     "data": {
      "text/plain": [
       "array([-13.        ,  12.66666667,  56.44444444])"
      ]
     },
     "execution_count": 17,
     "metadata": {},
     "output_type": "execute_result"
    }
   ],
   "source": [
    "y"
   ]
  },
  {
   "cell_type": "code",
   "execution_count": 18,
   "id": "5f080a8d",
   "metadata": {},
   "outputs": [],
   "source": [
    "x = u_solve(U, y)"
   ]
  },
  {
   "cell_type": "code",
   "execution_count": 19,
   "id": "16fc8417",
   "metadata": {},
   "outputs": [
    {
     "data": {
      "text/plain": [
       "array([ 1.,  0., -2.])"
      ]
     },
     "execution_count": 19,
     "metadata": {},
     "output_type": "execute_result"
    }
   ],
   "source": [
    "x"
   ]
  },
  {
   "cell_type": "code",
   "execution_count": 20,
   "id": "699556e6",
   "metadata": {},
   "outputs": [
    {
     "data": {
      "text/plain": [
       "array([-13.,   4.,   1.])"
      ]
     },
     "execution_count": 20,
     "metadata": {},
     "output_type": "execute_result"
    }
   ],
   "source": [
    "np.dot(A, x)"
   ]
  },
  {
   "cell_type": "markdown",
   "id": "6403ec25",
   "metadata": {},
   "source": [
    "##### Example 2"
   ]
  },
  {
   "cell_type": "code",
   "execution_count": 21,
   "id": "1aa0c21d",
   "metadata": {},
   "outputs": [],
   "source": [
    "A = np.array([\n",
    "    [1, 2, 3],\n",
    "    [4, 5, 6],\n",
    "    [7, 8, 0]\n",
    "])\n",
    "\n",
    "b = np.array([1, 0, 2])"
   ]
  },
  {
   "cell_type": "code",
   "execution_count": 22,
   "id": "6d505d59",
   "metadata": {},
   "outputs": [],
   "source": [
    "Q, R = myQR(A)"
   ]
  },
  {
   "cell_type": "code",
   "execution_count": 23,
   "id": "b1fad9c8",
   "metadata": {},
   "outputs": [],
   "source": [
    "x = u_solve(R, np.dot(Q.T, b))"
   ]
  },
  {
   "cell_type": "code",
   "execution_count": 24,
   "id": "aece9cf4",
   "metadata": {},
   "outputs": [
    {
     "data": {
      "text/plain": [
       "array([-2.        ,  2.        , -0.33333333])"
      ]
     },
     "execution_count": 24,
     "metadata": {},
     "output_type": "execute_result"
    }
   ],
   "source": [
    "x"
   ]
  },
  {
   "cell_type": "code",
   "execution_count": 25,
   "id": "65561398",
   "metadata": {},
   "outputs": [
    {
     "data": {
      "text/plain": [
       "array([ 1.00000000e+00, -1.27675648e-14,  2.00000000e+00])"
      ]
     },
     "execution_count": 25,
     "metadata": {},
     "output_type": "execute_result"
    }
   ],
   "source": [
    "np.dot(A, x)"
   ]
  },
  {
   "cell_type": "markdown",
   "id": "6a56c226",
   "metadata": {},
   "source": [
    "## An aside on Vandermode matricies and eigenvalue/vector solving\n",
    "\n",
    "I did want to write up a separate section detailing these, so instead I just included them as code from two previous problems I did for extra credit. Enjoy!\n",
    "\n",
    "#### Problem 4.52\n",
    "\n",
    "Consider $A$, our $11 \\times 3$ Vandermode matrix based on the data we gathered. Let $x$ be the coefficients for our polynomial function and $b$ the values of the data we recorded in the second column of our data. Then, we have $Ax = b$. We see that $A^t A$ is a $3 \\times 3$ matrix, and we may perform a QR decomposition on this to obtain the following equations:\n",
    "\n",
    "$$A^t A x = A^t b$$\n",
    "$$QR x = A^t b$$\n",
    "$$Rx = Q^t A^t b$$\n",
    "\n",
    "We may perform back-substitution on $Rx$ to obtain our coefficients in $x$."
   ]
  },
  {
   "cell_type": "code",
   "execution_count": 27,
   "id": "13f4624b",
   "metadata": {},
   "outputs": [],
   "source": [
    "import pandas as pd\n",
    "import matplotlib.pyplot as plt\n",
    "URL1 = 'https://raw.githubusercontent.com/NumericalMethodsSullivan'\n",
    "URL2 = '/NumericalMethodsSullivan.github.io/master/data/'\n",
    "URL = URL1+URL2\n",
    "data = np.array( pd.read_csv(URL+'Exercise4_52.csv') )\n",
    "\n",
    "# Vandermode Matrix generation:\n",
    "# print(data) # Debug\n",
    "x_vec = data[:, 0]\n",
    "values = data[:, 1].transpose()\n",
    "# print(x_vec, \"\\n\", values, np.shape(values)) # Debug\n",
    "vand = np.array([ [x_vec[i]**2, x_vec[i], 1] for i in range(len(x_vec)) ])\n",
    "# print(vand) # Debug"
   ]
  },
  {
   "cell_type": "code",
   "execution_count": 28,
   "id": "55281764",
   "metadata": {},
   "outputs": [],
   "source": [
    "# QR Decomposition and Back-substitution\n",
    "vand_t = vand.transpose()\n",
    "tr_mult = vand_t @ vand\n",
    "Q_vand, R_vand = myQR(tr_mult)\n",
    "# print(Q_vand, type(Q_vand), \"\\n\", vand_t, type(vand_t))\n",
    "Q_vand_t = Q_vand.transpose()\n",
    "transformed_values = np.dot(Q_vand_t, vand_t.dot(values))"
   ]
  },
  {
   "cell_type": "code",
   "execution_count": 29,
   "id": "351cba22",
   "metadata": {},
   "outputs": [
    {
     "data": {
      "text/plain": [
       "array([ 13.02913753, -12.19319347,  15.23706294])"
      ]
     },
     "execution_count": 29,
     "metadata": {},
     "output_type": "execute_result"
    }
   ],
   "source": [
    "# Solutions\n",
    "sol = u_solve(R_vand, transformed_values)\n",
    "a = sol[0]\n",
    "b = sol[1]\n",
    "c = sol[2]\n",
    "sol"
   ]
  },
  {
   "cell_type": "code",
   "execution_count": 30,
   "id": "b560e170",
   "metadata": {},
   "outputs": [
    {
     "data": {
      "image/png": "[encoded data removed]",
      "text/plain": [
       "<Figure size 640x480 with 1 Axes>"
      ]
     },
     "metadata": {},
     "output_type": "display_data"
    }
   ],
   "source": [
    "# Plotting our function against given values\n",
    "# -- Data --\n",
    "plt.scatter(x_vec, values, c='blue')\n",
    "# -- Line of best fit --\n",
    "x = np.linspace(0, 10, 10**2)\n",
    "f = lambda x: (a * (x**2)) + (b * x) + c\n",
    "plt.plot(x, f(x), c='black')\n",
    "plt.show()"
   ]
  },
  {
   "cell_type": "markdown",
   "id": "17b493f3",
   "metadata": {},
   "source": [
    "##### Ex: 4.86\n",
    "\n",
    "We understand that the matrix $A$ is singular from its LU-decomposition. The upper triangular matrix has a zero along its diagonal. This means that the standard methods for solving for eigenvectors cannot work as desired. So, we turn to an alternative method for calculating eigenvalues and their corresponding eigenvectors. We can assume that the eigenvector of $A$ is at a stable equilibrium at the maximum eigenvalue, and by convexity this tell us that when we are sufficiently close to the eigenvector. The equation we shall iterate is\n",
    "\n",
    "$$x_{n + 1} = A \\hat{x_n}$$\n",
    "\n",
    "where $\\hat{x_n}$ denotes the normalization of a vector. We see that if $\\hat{x_{n+1}} - \\hat{x_n}$ is sufficiently close to zero, then we are reaching an equilibrium. Similarly, $\\langle \\hat{x_{n+1}}, \\hat{x_n} \\rangle = \\lambda$ is the maximum eigenvalue of $A$. We start with a random normalized vector and proceed this way over a set number of iterations."
   ]
  },
  {
   "cell_type": "code",
   "execution_count": null,
   "id": "3678920d",
   "metadata": {},
   "outputs": [
    {
     "data": {
      "text/plain": [
       "(array([[1. , 0. , 0. , 0. ],\n",
       "        [5. , 1. , 0. , 0. ],\n",
       "        [9. , 4.5, 1. , 0. ],\n",
       "        [3. , 0.5, 0. , 1. ]]),\n",
       " array([[  1.,   2.,   3.,   4.],\n",
       "        [  0.,  -4.,  -8., -12.],\n",
       "        [  0.,   0.,  10.,  20.],\n",
       "        [  0.,   0.,   0.,   0.]]))"
      ]
     },
     "metadata": {},
     "output_type": "display_data"
    }
   ],
   "source": [
    "A = np.array([\n",
    "    [1, 2, 3, 4],\n",
    "    [5, 6, 7, 8],\n",
    "    [9, 0, 1, 2],\n",
    "    [3, 4, 5, 6]\n",
    "])\n",
    "\n",
    "myLU(A)"
   ]
  },
  {
   "cell_type": "code",
   "execution_count": 32,
   "id": "af7c60bf",
   "metadata": {},
   "outputs": [],
   "source": [
    "def normalize_vector(v):\n",
    "    return v / np.linalg.norm(v)\n",
    "\n",
    "def eigenvalues_and_eigenvectors(A, max_iter=1000, tol=1e-8):\n",
    "    # Eigenvalue + Eigenvector calculation - based on supremum method\n",
    "    eigenvector = np.random.rand(len(A))  # Random initial guess for eigenvector\n",
    "    eigenvector = normalize_vector(eigenvector)\n",
    "    for _ in range(max_iter):\n",
    "        eigenvector_next = A.dot(eigenvector)\n",
    "        eigenvalue = np.dot(eigenvector_next, eigenvector)\n",
    "        eigenvector_next = normalize_vector(eigenvector_next)\n",
    "        if np.linalg.norm(eigenvector_next - eigenvector) < tol:\n",
    "            break\n",
    "        eigenvector = eigenvector_next\n",
    "\n",
    "    return eigenvalue, eigenvector"
   ]
  },
  {
   "cell_type": "code",
   "execution_count": 35,
   "id": "fec9774c",
   "metadata": {},
   "outputs": [
    {
     "name": "stdout",
     "output_type": "stream",
     "text": [
      "12.122893771262424 [0.29982463 0.70747178 0.63999131]\n"
     ]
    }
   ],
   "source": [
    "e_val, e_vec = eigenvalues_and_eigenvectors(A)\n",
    "print(e_val, e_vec)"
   ]
  },
  {
   "cell_type": "code",
   "execution_count": 36,
   "id": "519d6092",
   "metadata": {},
   "outputs": [
    {
     "name": "stdout",
     "output_type": "stream",
     "text": [
      "The largest eigenvalue is: 12.122893771262424\n",
      "The corresponding eigenvector is: [0.29982463 0.70747178 0.63999131]\n"
     ]
    }
   ],
   "source": [
    "print(\"The largest eigenvalue is:\", e_val)\n",
    "print(\"The corresponding eigenvector is:\", e_vec)"
   ]
  }
 ],
 "metadata": {
  "kernelspec": {
   "display_name": "base",
   "language": "python",
   "name": "python3"
  },
  "language_info": {
   "codemirror_mode": {
    "name": "ipython",
    "version": 3
   },
   "file_extension": ".py",
   "mimetype": "text/x-python",
   "name": "python",
   "nbconvert_exporter": "python",
   "pygments_lexer": "ipython3",
   "version": "3.10.9"
  }
 },
 "nbformat": 4,
 "nbformat_minor": 5
}
